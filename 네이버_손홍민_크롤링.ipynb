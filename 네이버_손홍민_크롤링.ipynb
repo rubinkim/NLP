{
 "cells": [
  {
   "cell_type": "code",
   "execution_count": 2,
   "source": [
    "from selenium import webdriver\r\n",
    "from bs4 import BeautifulSoup\r\n",
    "import time\r\n",
    "import pandas as pd\r\n",
    "from urllib.parse import quote"
   ],
   "outputs": [],
   "metadata": {}
  },
  {
   "cell_type": "code",
   "execution_count": 3,
   "source": [
    "chromedriver = 'chromedriver.exe'\r\n",
    "driver = webdriver.Chrome(chromedriver)"
   ],
   "outputs": [],
   "metadata": {}
  },
  {
   "cell_type": "code",
   "execution_count": 4,
   "source": [
    "base_url = \"https://search.naver.com/search.naver?where=view&sm=tab_jum&query=\"\r\n",
    "url = base_url + quote('손홍민')"
   ],
   "outputs": [],
   "metadata": {}
  },
  {
   "cell_type": "code",
   "execution_count": 5,
   "source": [
    "driver.get(url)"
   ],
   "outputs": [],
   "metadata": {}
  },
  {
   "cell_type": "code",
   "execution_count": 6,
   "source": [
    "# blog 페이지를 아래로 내려서 많은 데이터 확보\r\n",
    "from selenium.webdriver.common.keys import Keys\r\n",
    "\r\n",
    "body = driver.find_element_by_tag_name('body')\r\n",
    "for i in range(30):\r\n",
    "    body.send_keys(Keys.PAGE_DOWN)\r\n",
    "    time.sleep(2)"
   ],
   "outputs": [],
   "metadata": {}
  },
  {
   "cell_type": "code",
   "execution_count": 7,
   "source": [
    "html = driver.page_source\r\n",
    "soup = BeautifulSoup(html, 'html.parser')"
   ],
   "outputs": [],
   "metadata": {}
  },
  {
   "cell_type": "code",
   "execution_count": 8,
   "source": [
    "lis = soup.select('li.bx._svp_item')\r\n",
    "len(lis)"
   ],
   "outputs": [
    {
     "output_type": "execute_result",
     "data": {
      "text/plain": [
       "88"
      ]
     },
     "metadata": {},
     "execution_count": 8
    }
   ],
   "metadata": {}
  },
  {
   "cell_type": "code",
   "execution_count": 9,
   "source": [
    "li = lis[0]\r\n",
    "\r\n",
    "title = li.select_one('a.api_txt_lines.total_tit._cross_trigger').get_text()\r\n",
    "content = li.select_one('div.api_txt_lines.dsc_txt').get_text()\r\n",
    "#date = li.select_ont('.sub_time.sub_txt')\r\n",
    "\r\n",
    "title, content"
   ],
   "outputs": [
    {
     "output_type": "execute_result",
     "data": {
      "text/plain": [
       "('손홍민 vs 왓포드 경기 프리킥 골 1:0 승, 해외반응',\n",
       " '토트넘의 손홍민은 2021/2022 프리미어리그 3라운드 왓포드 전에서 멋진 프리킥 골로 승리, 해외반응/ 일본반응 - 손홍민은 손홍민 존에 가까운 거리에서 프리킥 크로슛 골 축포 손흥민 시즌 2호골...')"
      ]
     },
     "metadata": {},
     "execution_count": 9
    }
   ],
   "metadata": {}
  },
  {
   "cell_type": "code",
   "execution_count": 10,
   "source": [
    "del lis[20]\r\n",
    "del lis[67]\r\n",
    "del lis[72]"
   ],
   "outputs": [],
   "metadata": {}
  },
  {
   "cell_type": "code",
   "execution_count": 11,
   "source": [
    "del lis[66]\r\n",
    "del lis[70]"
   ],
   "outputs": [],
   "metadata": {}
  },
  {
   "cell_type": "code",
   "execution_count": 12,
   "source": [
    "del lis[69]"
   ],
   "outputs": [],
   "metadata": {}
  },
  {
   "cell_type": "code",
   "execution_count": 13,
   "source": [
    "title_list, content_list = [],[]\r\n",
    "\r\n",
    "for i, li in enumerate(lis):\r\n",
    "\r\n",
    "    try:\r\n",
    "\r\n",
    "        title = li.select_one('a.api_txt_lines.total_tit._cross_trigger').get_text()\r\n",
    "        content = li.select_one('div.api_txt_lines.dsc_txt').get_text()      \r\n",
    "        title_list.append(title)\r\n",
    "        content_list.append(content)\r\n",
    "\r\n",
    "    except:\r\n",
    "        print(i) "
   ],
   "outputs": [],
   "metadata": {}
  },
  {
   "cell_type": "code",
   "execution_count": 14,
   "source": [
    "df = pd.DataFrame(dict(\r\n",
    "    title = title_list, content=content_list))\r\n",
    "\r\n",
    "df.head()"
   ],
   "outputs": [
    {
     "output_type": "execute_result",
     "data": {
      "text/plain": [
       "                                               title  \\\n",
       "0                    손홍민 vs 왓포드 경기 프리킥 골 1:0 승, 해외반응   \n",
       "1                             역시 손홍민!!! 존재감 탁월 MVP선정   \n",
       "2      손홍민 리그 2호 프리킥 골 (결승골), EPL 200경기 출전 축포, 축하 축하   \n",
       "3  손홍민 다음 경기를 위해 휴식 결장, UEFA 유로파 컨퍼런스 리그, 파수스 vs ...   \n",
       "4         토트넘, 유로파컨퍼런스 본선 진출 케인 2골, 손홍민 후반 70분 교체 출전   \n",
       "\n",
       "                                             content  \n",
       "0  토트넘의 손홍민은 2021/2022 프리미어리그 3라운드 왓포드 전에서 멋진 프리킥...  \n",
       "1  역시 손 홍민 이 경기 생방으로 봤어냐 하는데 ~~안타깝다. 영국 프리미어리그 1라...  \n",
       "2  #손홍민골 #손홍민선발출전경기 #손홍민시즌리그2호결승골 #손홍민EPL200경기출전골...  \n",
       "3  #손홍민휴식 #손홍민결장 #UEFA유로파컨퍼런스리그1차전 #토트넘원정경기 #해외축구...  \n",
       "4  손홍민은 벤치에서 경기를 시작했다. 선제골은 토트넘의 몫이었다. 전반 9분, 힐의 ...  "
      ],
      "text/html": [
       "<div>\n",
       "<style scoped>\n",
       "    .dataframe tbody tr th:only-of-type {\n",
       "        vertical-align: middle;\n",
       "    }\n",
       "\n",
       "    .dataframe tbody tr th {\n",
       "        vertical-align: top;\n",
       "    }\n",
       "\n",
       "    .dataframe thead th {\n",
       "        text-align: right;\n",
       "    }\n",
       "</style>\n",
       "<table border=\"1\" class=\"dataframe\">\n",
       "  <thead>\n",
       "    <tr style=\"text-align: right;\">\n",
       "      <th></th>\n",
       "      <th>title</th>\n",
       "      <th>content</th>\n",
       "    </tr>\n",
       "  </thead>\n",
       "  <tbody>\n",
       "    <tr>\n",
       "      <th>0</th>\n",
       "      <td>손홍민 vs 왓포드 경기 프리킥 골 1:0 승, 해외반응</td>\n",
       "      <td>토트넘의 손홍민은 2021/2022 프리미어리그 3라운드 왓포드 전에서 멋진 프리킥...</td>\n",
       "    </tr>\n",
       "    <tr>\n",
       "      <th>1</th>\n",
       "      <td>역시 손홍민!!! 존재감 탁월 MVP선정</td>\n",
       "      <td>역시 손 홍민 이 경기 생방으로 봤어냐 하는데 ~~안타깝다. 영국 프리미어리그 1라...</td>\n",
       "    </tr>\n",
       "    <tr>\n",
       "      <th>2</th>\n",
       "      <td>손홍민 리그 2호 프리킥 골 (결승골), EPL 200경기 출전 축포, 축하 축하</td>\n",
       "      <td>#손홍민골 #손홍민선발출전경기 #손홍민시즌리그2호결승골 #손홍민EPL200경기출전골...</td>\n",
       "    </tr>\n",
       "    <tr>\n",
       "      <th>3</th>\n",
       "      <td>손홍민 다음 경기를 위해 휴식 결장, UEFA 유로파 컨퍼런스 리그, 파수스 vs ...</td>\n",
       "      <td>#손홍민휴식 #손홍민결장 #UEFA유로파컨퍼런스리그1차전 #토트넘원정경기 #해외축구...</td>\n",
       "    </tr>\n",
       "    <tr>\n",
       "      <th>4</th>\n",
       "      <td>토트넘, 유로파컨퍼런스 본선 진출 케인 2골, 손홍민 후반 70분 교체 출전</td>\n",
       "      <td>손홍민은 벤치에서 경기를 시작했다. 선제골은 토트넘의 몫이었다. 전반 9분, 힐의 ...</td>\n",
       "    </tr>\n",
       "  </tbody>\n",
       "</table>\n",
       "</div>"
      ]
     },
     "metadata": {},
     "execution_count": 14
    }
   ],
   "metadata": {}
  },
  {
   "cell_type": "code",
   "execution_count": 15,
   "source": [
    "df.content.iloc[0]"
   ],
   "outputs": [
    {
     "output_type": "execute_result",
     "data": {
      "text/plain": [
       "'토트넘의 손홍민은 2021/2022 프리미어리그 3라운드 왓포드 전에서 멋진 프리킥 골로 승리, 해외반응/ 일본반응 - 손홍민은 손홍민 존에 가까운 거리에서 프리킥 크로슛 골 축포 손흥민 시즌 2호골...'"
      ]
     },
     "metadata": {},
     "execution_count": 15
    }
   ],
   "metadata": {}
  },
  {
   "cell_type": "code",
   "execution_count": 16,
   "source": [
    "son_text = ''\r\n",
    "\r\n",
    "for  row in df.iterrows():\r\n",
    "    son_text += row[1]['content']"
   ],
   "outputs": [],
   "metadata": {}
  },
  {
   "cell_type": "code",
   "execution_count": 18,
   "source": [
    "son_text[:50], son_text[-50:]"
   ],
   "outputs": [
    {
     "output_type": "execute_result",
     "data": {
      "text/plain": [
       "('토트넘의 손홍민은 2021/2022 프리미어리그 3라운드 왓포드 전에서 멋진 프리킥 골로 ',\n",
       " '시 무통보 게시글 삭제되오니 신경써주세요 (댓글과 본문에는 허용함) 손홍민 웃는다ㅋㅋㅋㅋㅋ')"
      ]
     },
     "metadata": {},
     "execution_count": 18
    }
   ],
   "metadata": {}
  },
  {
   "cell_type": "code",
   "execution_count": 38,
   "source": [
    "with open('data/son.txt', 'w', encoding='utf-8') as fp:\r\n",
    "    fp.write(son_text)"
   ],
   "outputs": [],
   "metadata": {}
  }
 ],
 "metadata": {
  "orig_nbformat": 4,
  "language_info": {
   "name": "python",
   "version": "3.8.8",
   "mimetype": "text/x-python",
   "codemirror_mode": {
    "name": "ipython",
    "version": 3
   },
   "pygments_lexer": "ipython3",
   "nbconvert_exporter": "python",
   "file_extension": ".py"
  },
  "kernelspec": {
   "name": "python3",
   "display_name": "Python 3.8.8 64-bit ('base': conda)"
  },
  "interpreter": {
   "hash": "c5b8715a341aa9d42d2201bec25ddb46a20700ceb583018c752d891a66504678"
  }
 },
 "nbformat": 4,
 "nbformat_minor": 2
}