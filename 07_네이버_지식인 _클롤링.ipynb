{
 "cells": [
  {
   "cell_type": "code",
   "execution_count": 29,
   "source": [
    "from selenium import webdriver\r\n",
    "from bs4 import BeautifulSoup\r\n",
    "import time\r\n",
    "import pandas as pd\r\n",
    "from urllib.parse import quote"
   ],
   "outputs": [],
   "metadata": {}
  },
  {
   "cell_type": "code",
   "execution_count": 30,
   "source": [
    "chromedriver = 'chromedriver.exe'\r\n",
    "driver = webdriver.Chrome(chromedriver)\r\n",
    "\r\n",
    "base_url = \"https://kin.naver.com/search/list.naver?query=\"\r\n",
    "url = base_url + quote('여친선물')\r\n",
    "driver.get(url)"
   ],
   "outputs": [],
   "metadata": {}
  },
  {
   "cell_type": "code",
   "execution_count": 31,
   "source": [
    "html = driver.page_source\r\n",
    "soup = BeautifulSoup(html, 'html.parser')"
   ],
   "outputs": [],
   "metadata": {}
  },
  {
   "cell_type": "code",
   "execution_count": 32,
   "source": [
    "lis = soup.select('ul.basic1 > li')\r\n",
    "len(lis)"
   ],
   "outputs": [
    {
     "output_type": "execute_result",
     "data": {
      "text/plain": [
       "10"
      ]
     },
     "metadata": {},
     "execution_count": 32
    }
   ],
   "metadata": {}
  },
  {
   "cell_type": "code",
   "execution_count": 33,
   "source": [
    "li = lis[0]\r\n",
    "sub_url = li.select_one('a._searchListTitleAnchor')['href']\r\n",
    "sub_url"
   ],
   "outputs": [
    {
     "output_type": "execute_result",
     "data": {
      "text/plain": [
       "'https://kin.naver.com/qna/detail.naver?d1id=8&dirId=80101&docId=395035694&qb=7Jes7Lmc7ISg66y8&enc=utf8&section=kin&rank=1&search_sort=0&spq=0'"
      ]
     },
     "metadata": {},
     "execution_count": 33
    }
   ],
   "metadata": {}
  },
  {
   "cell_type": "code",
   "execution_count": 34,
   "source": [
    "driver.get(sub_url)"
   ],
   "outputs": [],
   "metadata": {}
  },
  {
   "cell_type": "code",
   "execution_count": 35,
   "source": [
    "count = int(driver.find_element_by_css_selector('._answerCount.num').text)\r\n",
    "answer_page = (count - 1) // 5\r\n",
    "print(count, answer_page)"
   ],
   "outputs": [
    {
     "output_type": "stream",
     "name": "stdout",
     "text": [
      "8 1\n"
     ]
    }
   ],
   "metadata": {}
  },
  {
   "cell_type": "code",
   "execution_count": 36,
   "source": [
    "for i in range(answer_page):\r\n",
    "    driver.find_element_by_id('nextPageButton').click()\r\n",
    "    time.sleep(2)"
   ],
   "outputs": [],
   "metadata": {}
  },
  {
   "cell_type": "code",
   "execution_count": 37,
   "source": [
    "html = driver.page_source\r\n",
    "soup = BeautifulSoup(html, 'html.parser')"
   ],
   "outputs": [],
   "metadata": {}
  },
  {
   "cell_type": "code",
   "execution_count": 39,
   "source": [
    "divs = soup.select('div.answer-content__item._contentWrap._answer')\r\n",
    "len(divs)"
   ],
   "outputs": [
    {
     "output_type": "execute_result",
     "data": {
      "text/plain": [
       "8"
      ]
     },
     "metadata": {},
     "execution_count": 39
    }
   ],
   "metadata": {}
  },
  {
   "cell_type": "code",
   "execution_count": 40,
   "source": [
    "div = divs[0]\r\n",
    "ps = div.select('p.se-text-paragraph')"
   ],
   "outputs": [],
   "metadata": {}
  },
  {
   "cell_type": "code",
   "execution_count": 41,
   "source": [
    "for p in ps:\r\n",
    "    print(p.get_text())"
   ],
   "outputs": [
    {
     "output_type": "stream",
     "name": "stdout",
     "text": [
      "혹시 여친분이 생리통이 있으시다면..여친선물로 복부온열기 어떠세요?\n",
      "저 생리통 너무 심해서 이번에 남자친구가 복부온열기 선물줬는데..\n",
      "뭔가 감동이더라구요. 절 많이 생각해서 준 선물 같이 느껴지더라구요.\n",
      "하고있으면 배가 뜨듯하고 진동마사지도 해줘서 생리통 거의 안느껴지고 좋아요!!\n",
      "​\n",
      "제가 쓰는건 배뜨끈 복부온열기이예요. 아래에 링크알려드릴게요.\n",
      "좋은 여친선물이 되셨으면 좋겠네요.\n"
     ]
    }
   ],
   "metadata": {}
  },
  {
   "cell_type": "code",
   "execution_count": 42,
   "source": [
    "driver.back()"
   ],
   "outputs": [],
   "metadata": {}
  },
  {
   "cell_type": "code",
   "execution_count": 43,
   "source": [
    "answer_list = []\r\n",
    "\r\n",
    "for li in lis:\r\n",
    "    sub_url = li.select_one('a._searchListTitleAnchor')['href']\r\n",
    "    driver.get(sub_url)\r\n",
    "    time.sleep(2)\r\n",
    "\r\n",
    "    count = int(driver.find_element_by_css_selector('._answerCount.num').text)\r\n",
    "    answer_page = (count - 1) // 5\r\n",
    "    print(count, end=', ')\r\n",
    "\r\n",
    "    for i in range(answer_page):\r\n",
    "        driver.find_element_by_id('nextPageButton').click()\r\n",
    "        time.sleep(2)\r\n",
    "\r\n",
    "    html = driver.page_source\r\n",
    "    soup = BeautifulSoup(html, 'html.parser')\r\n",
    "    divs = soup.select('div.answer-content__item._contentWrap._answer')\r\n",
    "    print(len(divs))\r\n",
    "\r\n",
    "    for div in divs:\r\n",
    "        ps = div.select('p.se-text-paragraph')\r\n",
    "        for p in ps:\r\n",
    "            text = p.get_text()\r\n",
    "            if text == ' ' or text == '\\u200b':\r\n",
    "                continue\r\n",
    "            answer_list.append(text)\r\n",
    "\r\n",
    "    driver.back()\r\n",
    "    time.sleep(2)\r\n",
    "\r\n",
    "\r\n"
   ],
   "outputs": [
    {
     "output_type": "stream",
     "name": "stdout",
     "text": [
      "8, 8\n",
      "8, 8\n",
      "20, 20\n",
      "8, 8\n",
      "3, 3\n",
      "8, 8\n",
      "10, 10\n",
      "10, 10\n",
      "13, 13\n",
      "12, 0\n"
     ]
    }
   ],
   "metadata": {}
  },
  {
   "cell_type": "code",
   "execution_count": 44,
   "source": [
    "answer_list[100:110]"
   ],
   "outputs": [
    {
     "output_type": "execute_result",
     "data": {
      "text/plain": [
       "['3. 데이트',\n",
       " '데이트를 준비하는 것도 부담이 되지 않으면서 할 수 있는 좋은 선물이라고 생각해요',\n",
       " '연인과 함께하는 특별한 경험은 소중한 추억이 되니까요 ^^',\n",
       " '가까이서 할 수 있는 특별한 데이트로는 주로 연극관람을 추천해드리고 있는데요~',\n",
       " '영화보다 이색적이기도 하고 그 시간 그 장소에서만 일어나는 공연의 형식이다보니 다들 좋아하시더라고요 ^^',\n",
       " '커플분들께 추천드리는 연극은 바로 <한뼘사이> 인데요~',\n",
       " '로맨스 코메디 장르라 커플분들끼리 많이들 편하게 보고 가신다고 하더라구요 ㅎㅎ',\n",
       " '자세한 사항은 링크를 참고해 주세요~',\n",
       " 'https://booking.naver.com/booking/12/bizes/69133',\n",
       " '4. 커플아이템']"
      ]
     },
     "metadata": {},
     "execution_count": 44
    }
   ],
   "metadata": {}
  },
  {
   "cell_type": "code",
   "execution_count": 46,
   "source": [
    "## 1 ~ 10 페이지 데이터 한꺼번에 하기\r\n",
    "answer_list = []\r\n",
    "\r\n",
    "for page in range(1,11):\r\n",
    "    print('page', page)\r\n",
    "    url = f\"{base_url}{quote('여친선물')}&page={page}\"\r\n",
    "    driver.get(url)\r\n",
    "    time.sleep(2)\r\n",
    "\r\n",
    "    html = driver.page_source\r\n",
    "    soup = BeautifulSoup(html, 'html.parser')\r\n",
    "    lis = soup.select('ul.basic1 > li')\r\n",
    "\r\n",
    "\r\n",
    "\r\n",
    "    for li in lis:\r\n",
    "        sub_url = li.select_one('a._searchListTitleAnchor')['href']\r\n",
    "        driver.get(sub_url)\r\n",
    "        time.sleep(2)\r\n",
    "\r\n",
    "        count = int(driver.find_element_by_css_selector('._answerCount.num').text)\r\n",
    "        answer_page = (count - 1) // 5\r\n",
    "        \r\n",
    "        for i in range(answer_page):\r\n",
    "            driver.find_element_by_id('nextPageButton').click()\r\n",
    "            time.sleep(2)\r\n",
    "\r\n",
    "        html = driver.page_source\r\n",
    "        soup = BeautifulSoup(html, 'html.parser')\r\n",
    "        divs = soup.select('div.answer-content__item._contentWrap._answer')\r\n",
    "        \r\n",
    "        for div in divs:\r\n",
    "            ps = div.select('p.se-text-paragraph')\r\n",
    "            for p in ps:\r\n",
    "                text = p.get_text()\r\n",
    "                if text == ' ' or text == '\\u200b':\r\n",
    "                    continue\r\n",
    "                answer_list.append(text)\r\n",
    "\r\n",
    "        driver.back()\r\n",
    "        time.sleep(2)"
   ],
   "outputs": [
    {
     "output_type": "stream",
     "name": "stdout",
     "text": [
      "page 1\n",
      "8, 8\n",
      "8, 8\n",
      "20, 20\n",
      "9, 9\n",
      "3, 3\n",
      "8, 8\n",
      "10, 10\n",
      "10, 10\n",
      "13, 13\n",
      "12, 12\n",
      "page 2\n",
      "13, 13\n",
      "5, 5\n",
      "8, 8\n",
      "5, 5\n",
      "5, 5\n",
      "11, 11\n",
      "13, 13\n",
      "17, 17\n",
      "15, 15\n",
      "7, 7\n",
      "page 3\n",
      "5, 5\n",
      "11, 11\n",
      "1, 1\n",
      "5, 5\n",
      "2, 2\n",
      "1, 1\n",
      "6, 6\n",
      "1, 1\n",
      "15, 15\n",
      "2, 2\n",
      "page 4\n",
      "1, 1\n",
      "8, 8\n",
      "3, 3\n",
      "11, 11\n",
      "9, 9\n",
      "5, 5\n",
      "1, 1\n",
      "1, 1\n",
      "15, 15\n",
      "12, 12\n",
      "page 5\n",
      "12, 12\n",
      "5, 5\n",
      "4, 4\n",
      "18, 18\n",
      "5, 5\n",
      "16, 16\n",
      "1, 1\n",
      "5, 5\n",
      "12, 12\n",
      "3, 3\n",
      "page 6\n",
      "1, 1\n",
      "1, 1\n",
      "2, 2\n",
      "8, 8\n",
      "11, 11\n",
      "7, 7\n",
      "20, 20\n",
      "12, 12\n",
      "4, 4\n",
      "1, 1\n",
      "page 7\n",
      "4, 4\n",
      "6, 6\n",
      "7, 7\n",
      "2, 2\n",
      "6, 6\n",
      "1, 1\n",
      "9, 9\n",
      "1, 1\n",
      "1, 1\n",
      "7, 7\n",
      "page 8\n",
      "6, 6\n",
      "11, 11\n",
      "1, 1\n",
      "6, 6\n",
      "1, 1\n",
      "6, 6\n",
      "5, 5\n",
      "8, 8\n",
      "6, 6\n",
      "3, 3\n",
      "page 9\n",
      "7, 7\n",
      "5, 5\n",
      "6, 6\n",
      "8, 8\n",
      "5, 5\n",
      "11, 11\n",
      "9, 9\n",
      "3, 3\n",
      "2, 2\n",
      "3, 3\n",
      "page 10\n",
      "1, 1\n",
      "6, 6\n",
      "3, 3\n",
      "2, 2\n",
      "6, 6\n",
      "10, 10\n",
      "2, 2\n",
      "2, 2\n",
      "5, 5\n",
      "8, 8\n"
     ]
    }
   ],
   "metadata": {}
  },
  {
   "cell_type": "code",
   "execution_count": 47,
   "source": [
    "len(answer_list)"
   ],
   "outputs": [
    {
     "output_type": "execute_result",
     "data": {
      "text/plain": [
       "4801"
      ]
     },
     "metadata": {},
     "execution_count": 47
    }
   ],
   "metadata": {}
  },
  {
   "cell_type": "code",
   "execution_count": 48,
   "source": [
    "answer_list[0]"
   ],
   "outputs": [
    {
     "output_type": "execute_result",
     "data": {
      "text/plain": [
       "'혹시 여친분이 생리통이 있으시다면..여친선물로 복부온열기 어떠세요?'"
      ]
     },
     "metadata": {},
     "execution_count": 48
    }
   ],
   "metadata": {}
  },
  {
   "cell_type": "code",
   "execution_count": 54,
   "source": [
    "with open('new_gift.txt', 'w', encoding='utf-8') as fp:\r\n",
    "    for answer in answer_list:\r\n",
    "        fp.write(answer+'\\n')"
   ],
   "outputs": [],
   "metadata": {}
  },
  {
   "cell_type": "code",
   "execution_count": 55,
   "source": [
    "driver.close()"
   ],
   "outputs": [],
   "metadata": {}
  },
  {
   "cell_type": "code",
   "execution_count": null,
   "source": [],
   "outputs": [],
   "metadata": {}
  }
 ],
 "metadata": {
  "orig_nbformat": 4,
  "language_info": {
   "name": "python",
   "version": "3.8.8",
   "mimetype": "text/x-python",
   "codemirror_mode": {
    "name": "ipython",
    "version": 3
   },
   "pygments_lexer": "ipython3",
   "nbconvert_exporter": "python",
   "file_extension": ".py"
  },
  "kernelspec": {
   "name": "python3",
   "display_name": "Python 3.8.8 64-bit ('base': conda)"
  },
  "interpreter": {
   "hash": "c5b8715a341aa9d42d2201bec25ddb46a20700ceb583018c752d891a66504678"
  }
 },
 "nbformat": 4,
 "nbformat_minor": 2
}