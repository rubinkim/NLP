{
 "cells": [
  {
   "cell_type": "code",
   "execution_count": null,
   "source": [
    "import numpy as np\r\n",
    "import pandas as pd\r\n",
    "import re\r\n",
    "import warnings\r\n",
    "warnings.filterwarnings('ignore')"
   ],
   "outputs": [],
   "metadata": {}
  },
  {
   "cell_type": "code",
   "execution_count": 130,
   "source": [
    "movie_path = 'C:/Users/rubin/downloads/movies_metadata.csv/movies_metadata.csv'\r\n",
    "credits_path = 'C:/Users/rubin/downloads/credits.csv/credits.csv'"
   ],
   "outputs": [],
   "metadata": {}
  },
  {
   "cell_type": "code",
   "execution_count": 131,
   "source": [
    "movie = pd.read_csv(movie_path, low_memory=False)\r\n",
    "info = pd.read_csv(credits_path)"
   ],
   "outputs": [],
   "metadata": {}
  },
  {
   "cell_type": "code",
   "execution_count": 132,
   "source": [
    "movie = movie[['id','overview','title']]\r\n",
    "movie.info()     # id, overview title"
   ],
   "outputs": [
    {
     "output_type": "stream",
     "name": "stdout",
     "text": [
      "<class 'pandas.core.frame.DataFrame'>\n",
      "RangeIndex: 45466 entries, 0 to 45465\n",
      "Data columns (total 3 columns):\n",
      " #   Column    Non-Null Count  Dtype \n",
      "---  ------    --------------  ----- \n",
      " 0   id        45466 non-null  object\n",
      " 1   overview  44512 non-null  object\n",
      " 2   title     45460 non-null  object\n",
      "dtypes: object(3)\n",
      "memory usage: 1.0+ MB\n"
     ]
    }
   ],
   "metadata": {}
  },
  {
   "cell_type": "code",
   "execution_count": 133,
   "source": [
    "info.info()"
   ],
   "outputs": [
    {
     "output_type": "stream",
     "name": "stdout",
     "text": [
      "<class 'pandas.core.frame.DataFrame'>\n",
      "RangeIndex: 45476 entries, 0 to 45475\n",
      "Data columns (total 3 columns):\n",
      " #   Column  Non-Null Count  Dtype \n",
      "---  ------  --------------  ----- \n",
      " 0   cast    45476 non-null  object\n",
      " 1   crew    45476 non-null  object\n",
      " 2   id      45476 non-null  int64 \n",
      "dtypes: int64(1), object(2)\n",
      "memory usage: 1.0+ MB\n"
     ]
    }
   ],
   "metadata": {}
  },
  {
   "cell_type": "code",
   "execution_count": 134,
   "source": [
    "pattern = re.compile(r'\\d{4}-\\d{2}-\\d{2}')\r\n",
    "index_list = []\r\n",
    "\r\n",
    "for i in movie.index:\r\n",
    "    if re.search(pattern, movie.id[i]):\r\n",
    "        index_list.append(i)\r\n",
    "\r\n",
    "index_list"
   ],
   "outputs": [
    {
     "output_type": "execute_result",
     "data": {
      "text/plain": [
       "[19730, 29503, 35587]"
      ]
     },
     "metadata": {},
     "execution_count": 134
    }
   ],
   "metadata": {}
  },
  {
   "cell_type": "code",
   "execution_count": 135,
   "source": [
    "# movie와 info를 merge하기 위해서는 movie의 id컬럼의 data type을 int로 변경해야 한다.\r\n",
    "#movie['id'] = movie.id.astype(int)   # invalid literal for int() with base 10: '1997-08-20'라는 ValueError문구가 뜬다\r\n",
    "#movie.index[movie['id']=='1997-08-20']  # 19730\r\n",
    "movie.drop(index_list, inplace=True)\r\n",
    "movie.reset_index(drop=True, inplace=True)\r\n",
    "movie.id = movie.id.astype(int)\r\n",
    "movie.info()"
   ],
   "outputs": [
    {
     "output_type": "stream",
     "name": "stdout",
     "text": [
      "<class 'pandas.core.frame.DataFrame'>\n",
      "RangeIndex: 45463 entries, 0 to 45462\n",
      "Data columns (total 3 columns):\n",
      " #   Column    Non-Null Count  Dtype \n",
      "---  ------    --------------  ----- \n",
      " 0   id        45463 non-null  int32 \n",
      " 1   overview  44509 non-null  object\n",
      " 2   title     45460 non-null  object\n",
      "dtypes: int32(1), object(2)\n",
      "memory usage: 888.1+ KB\n"
     ]
    }
   ],
   "metadata": {}
  },
  {
   "cell_type": "code",
   "execution_count": 136,
   "source": [
    "df = pd.merge(movie, info, on='id')\r\n",
    "df.reset_index(drop=True, inplace=True)\r\n",
    "df.info()\r\n",
    "df.head(3)"
   ],
   "outputs": [
    {
     "output_type": "stream",
     "name": "stdout",
     "text": [
      "<class 'pandas.core.frame.DataFrame'>\n",
      "RangeIndex: 45538 entries, 0 to 45537\n",
      "Data columns (total 5 columns):\n",
      " #   Column    Non-Null Count  Dtype \n",
      "---  ------    --------------  ----- \n",
      " 0   id        45538 non-null  int32 \n",
      " 1   overview  44584 non-null  object\n",
      " 2   title     45535 non-null  object\n",
      " 3   cast      45538 non-null  object\n",
      " 4   crew      45538 non-null  object\n",
      "dtypes: int32(1), object(4)\n",
      "memory usage: 1.6+ MB\n"
     ]
    },
    {
     "output_type": "execute_result",
     "data": {
      "text/plain": [
       "      id                                           overview             title  \\\n",
       "0    862  Led by Woody, Andy's toys live happily in his ...         Toy Story   \n",
       "1   8844  When siblings Judy and Peter discover an encha...           Jumanji   \n",
       "2  15602  A family wedding reignites the ancient feud be...  Grumpier Old Men   \n",
       "\n",
       "                                                cast  \\\n",
       "0  [{'cast_id': 14, 'character': 'Woody (voice)',...   \n",
       "1  [{'cast_id': 1, 'character': 'Alan Parrish', '...   \n",
       "2  [{'cast_id': 2, 'character': 'Max Goldman', 'c...   \n",
       "\n",
       "                                                crew  \n",
       "0  [{'credit_id': '52fe4284c3a36847f8024f49', 'de...  \n",
       "1  [{'credit_id': '52fe44bfc3a36847f80a7cd1', 'de...  \n",
       "2  [{'credit_id': '52fe466a9251416c75077a89', 'de...  "
      ],
      "text/html": [
       "<div>\n",
       "<style scoped>\n",
       "    .dataframe tbody tr th:only-of-type {\n",
       "        vertical-align: middle;\n",
       "    }\n",
       "\n",
       "    .dataframe tbody tr th {\n",
       "        vertical-align: top;\n",
       "    }\n",
       "\n",
       "    .dataframe thead th {\n",
       "        text-align: right;\n",
       "    }\n",
       "</style>\n",
       "<table border=\"1\" class=\"dataframe\">\n",
       "  <thead>\n",
       "    <tr style=\"text-align: right;\">\n",
       "      <th></th>\n",
       "      <th>id</th>\n",
       "      <th>overview</th>\n",
       "      <th>title</th>\n",
       "      <th>cast</th>\n",
       "      <th>crew</th>\n",
       "    </tr>\n",
       "  </thead>\n",
       "  <tbody>\n",
       "    <tr>\n",
       "      <th>0</th>\n",
       "      <td>862</td>\n",
       "      <td>Led by Woody, Andy's toys live happily in his ...</td>\n",
       "      <td>Toy Story</td>\n",
       "      <td>[{'cast_id': 14, 'character': 'Woody (voice)',...</td>\n",
       "      <td>[{'credit_id': '52fe4284c3a36847f8024f49', 'de...</td>\n",
       "    </tr>\n",
       "    <tr>\n",
       "      <th>1</th>\n",
       "      <td>8844</td>\n",
       "      <td>When siblings Judy and Peter discover an encha...</td>\n",
       "      <td>Jumanji</td>\n",
       "      <td>[{'cast_id': 1, 'character': 'Alan Parrish', '...</td>\n",
       "      <td>[{'credit_id': '52fe44bfc3a36847f80a7cd1', 'de...</td>\n",
       "    </tr>\n",
       "    <tr>\n",
       "      <th>2</th>\n",
       "      <td>15602</td>\n",
       "      <td>A family wedding reignites the ancient feud be...</td>\n",
       "      <td>Grumpier Old Men</td>\n",
       "      <td>[{'cast_id': 2, 'character': 'Max Goldman', 'c...</td>\n",
       "      <td>[{'credit_id': '52fe466a9251416c75077a89', 'de...</td>\n",
       "    </tr>\n",
       "  </tbody>\n",
       "</table>\n",
       "</div>"
      ]
     },
     "metadata": {},
     "execution_count": 136
    }
   ],
   "metadata": {}
  },
  {
   "cell_type": "code",
   "execution_count": null,
   "source": [
    "# 선생님 방법\r\n",
    "''' \r\n",
    "movie_path = 'C:/Users/rubin/downloads/movies_metadata.csv/movies_metadata.csv'\r\n",
    "credits_path = 'C:/Users/rubin/downloads/credits.csv/credits.csv'\r\n",
    "\r\n",
    "movie = pd.read_csv(movie_path, low_memory=False)\r\n",
    "info = pd.read_csv(credits_path)\r\n",
    "\r\n",
    "df = movie[['id','title','overview']]\r\n",
    "\r\n",
    "index_list = []\r\n",
    "for i in df.index:\r\n",
    "    if re.search('\\d{4}-\\d{2}-\\d{2}', df.id[i]):\r\n",
    "        index_list.append(i)\r\n",
    "\r\n",
    "print(index_list)\r\n",
    "\r\n",
    "df.drop(index_list, inplace=True)\r\n",
    "df['id'] = df.id.astype(int)\r\n",
    "info['id'] = info.id.astype(int)\r\n",
    "\r\n",
    "df = df.merge(info, on='id')\r\n",
    "df.set_index('id', inplace=True)\r\n",
    "df.head(3)\r\n",
    "'''"
   ],
   "outputs": [],
   "metadata": {}
  },
  {
   "cell_type": "code",
   "execution_count": null,
   "source": [],
   "outputs": [],
   "metadata": {}
  }
 ],
 "metadata": {
  "orig_nbformat": 4,
  "language_info": {
   "name": "python",
   "version": "3.8.8",
   "mimetype": "text/x-python",
   "codemirror_mode": {
    "name": "ipython",
    "version": 3
   },
   "pygments_lexer": "ipython3",
   "nbconvert_exporter": "python",
   "file_extension": ".py"
  },
  "kernelspec": {
   "name": "python3",
   "display_name": "Python 3.8.8 64-bit ('base': conda)"
  },
  "interpreter": {
   "hash": "c5b8715a341aa9d42d2201bec25ddb46a20700ceb583018c752d891a66504678"
  }
 },
 "nbformat": 4,
 "nbformat_minor": 2
}