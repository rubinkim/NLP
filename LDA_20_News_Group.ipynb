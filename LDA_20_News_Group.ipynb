{
 "cells": [
  {
   "cell_type": "markdown",
   "source": [
    "1) 정수 인코딩과 단어 집합 만들기 : dictionary = corpora.Dictionary(tokenized_doc) 인덱스화된 단어와 빈도수의 딕셔너리\r\n",
    "                                 corpus = [dictionary.doc2bow(text) for text in tokenized_doc]   \r\n",
    "2) LDA 모델 훈련시키기 : ldamodel = gensim.models.ldamodel.LdaModel(corpus, num_topics = NUM_TOPICS, id2word=dictionary, passes=15)\r\n",
    "                                 topics = ldamodel.print_topics(num_words=4)\r\n",
    "3) LDA 시각화 하기 : pyLDAvis.enable_notebook()    vis = pyLDAvis.gensim.prepare(ldamodel, corpus, dictionary)    pyLDAvis.display(vis)\r\n",
    "4) 문서 별 토픽 분포 보기 : topictable = make_topictable_per_doc(ldamodel, corpus)"
   ],
   "metadata": {}
  },
  {
   "cell_type": "code",
   "execution_count": null,
   "source": [],
   "outputs": [],
   "metadata": {}
  }
 ],
 "metadata": {
  "orig_nbformat": 4,
  "language_info": {
   "name": "python"
  }
 },
 "nbformat": 4,
 "nbformat_minor": 2
}