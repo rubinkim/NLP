{
  "nbformat": 4,
  "nbformat_minor": 0,
  "metadata": {
    "colab": {
      "name": "14_뉴스그룹_분류.ipynb",
      "provenance": [],
      "collapsed_sections": []
    },
    "kernelspec": {
      "name": "python3",
      "display_name": "Python 3"
    },
    "language_info": {
      "name": "python"
    }
  },
  "cells": [
    {
      "cell_type": "markdown",
      "metadata": {
        "id": "LecyOjWB1S_2"
      },
      "source": [
        "# 20 뉴스 그룹 분류"
      ]
    },
    {
      "cell_type": "code",
      "metadata": {
        "id": "7YLmlCKp1LRy"
      },
      "source": [
        "import numpy as np\n",
        "import pandas as pd\n",
        "from sklearn.datasets import fetch_20newsgroups \n",
        "from sklearn.feature_extraction.text import TfidfVectorizer\n",
        "from sklearn.svm import SVC\n",
        "from xgboost import XGBClassifier\n",
        "from sklearn.metrics import accuracy_score\n",
        "import re"
      ],
      "execution_count": 112,
      "outputs": []
    },
    {
      "cell_type": "code",
      "metadata": {
        "colab": {
          "base_uri": "https://localhost:8080/"
        },
        "id": "Oys6nV9k2Nlu",
        "outputId": "7a1fe7df-ccde-4596-a81d-3c8813b17170"
      },
      "source": [
        "news = fetch_20newsgroups(subset='all', random_state=2021)"
      ],
      "execution_count": 2,
      "outputs": [
        {
          "output_type": "stream",
          "name": "stderr",
          "text": [
            "Downloading 20news dataset. This may take a few minutes.\n",
            "Downloading dataset from https://ndownloader.figshare.com/files/5975967 (14 MB)\n"
          ]
        }
      ]
    },
    {
      "cell_type": "markdown",
      "metadata": {
        "id": "V5-_vvme25Ev"
      },
      "source": [
        "### 데이터 탐색"
      ]
    },
    {
      "cell_type": "code",
      "metadata": {
        "colab": {
          "base_uri": "https://localhost:8080/"
        },
        "id": "NsD3zxeV2zij",
        "outputId": "ff94cbc3-4961-4e34-82ea-7289fc92e58d"
      },
      "source": [
        "news.keys()"
      ],
      "execution_count": 3,
      "outputs": [
        {
          "output_type": "execute_result",
          "data": {
            "text/plain": [
              "dict_keys(['data', 'filenames', 'target_names', 'target', 'DESCR'])"
            ]
          },
          "metadata": {},
          "execution_count": 3
        }
      ]
    },
    {
      "cell_type": "code",
      "metadata": {
        "colab": {
          "base_uri": "https://localhost:8080/"
        },
        "id": "RsmFAfYD2_nA",
        "outputId": "cd34a292-c4f6-42cb-c1df-6ad891fb34b1"
      },
      "source": [
        "news.target_names"
      ],
      "execution_count": 5,
      "outputs": [
        {
          "output_type": "execute_result",
          "data": {
            "text/plain": [
              "['alt.atheism',\n",
              " 'comp.graphics',\n",
              " 'comp.os.ms-windows.misc',\n",
              " 'comp.sys.ibm.pc.hardware',\n",
              " 'comp.sys.mac.hardware',\n",
              " 'comp.windows.x',\n",
              " 'misc.forsale',\n",
              " 'rec.autos',\n",
              " 'rec.motorcycles',\n",
              " 'rec.sport.baseball',\n",
              " 'rec.sport.hockey',\n",
              " 'sci.crypt',\n",
              " 'sci.electronics',\n",
              " 'sci.med',\n",
              " 'sci.space',\n",
              " 'soc.religion.christian',\n",
              " 'talk.politics.guns',\n",
              " 'talk.politics.mideast',\n",
              " 'talk.politics.misc',\n",
              " 'talk.religion.misc']"
            ]
          },
          "metadata": {},
          "execution_count": 5
        }
      ]
    },
    {
      "cell_type": "code",
      "metadata": {
        "colab": {
          "base_uri": "https://localhost:8080/"
        },
        "id": "9nuO9Bft4B0I",
        "outputId": "17aed2c6-f56a-4656-fe5f-b61204da7647"
      },
      "source": [
        "type(news.target), len(news.target)"
      ],
      "execution_count": 7,
      "outputs": [
        {
          "output_type": "execute_result",
          "data": {
            "text/plain": [
              "(numpy.ndarray, 18846)"
            ]
          },
          "metadata": {},
          "execution_count": 7
        }
      ]
    },
    {
      "cell_type": "code",
      "metadata": {
        "colab": {
          "base_uri": "https://localhost:8080/"
        },
        "id": "6gkBKZnU4bOx",
        "outputId": "c23536c5-e7fc-4653-d635-3cd0a960b1ae"
      },
      "source": [
        "pd.Series(news.target).value_counts().sort_index()"
      ],
      "execution_count": 8,
      "outputs": [
        {
          "output_type": "execute_result",
          "data": {
            "text/plain": [
              "0     799\n",
              "1     973\n",
              "2     985\n",
              "3     982\n",
              "4     963\n",
              "5     988\n",
              "6     975\n",
              "7     990\n",
              "8     996\n",
              "9     994\n",
              "10    999\n",
              "11    991\n",
              "12    984\n",
              "13    990\n",
              "14    987\n",
              "15    997\n",
              "16    910\n",
              "17    940\n",
              "18    775\n",
              "19    628\n",
              "dtype: int64"
            ]
          },
          "metadata": {},
          "execution_count": 8
        }
      ]
    },
    {
      "cell_type": "code",
      "metadata": {
        "colab": {
          "base_uri": "https://localhost:8080/"
        },
        "id": "FOSdjzgi4rkU",
        "outputId": "a9c3d7c5-1ae3-4b42-aa1c-3a8a0dfcbd1f"
      },
      "source": [
        "print(news.data[0])"
      ],
      "execution_count": 12,
      "outputs": [
        {
          "output_type": "stream",
          "name": "stdout",
          "text": [
            "From: dagibbs@quantum.qnx.com (David Gibbs)\n",
            "Subject: Re: Countersteering sans Hands\n",
            "Organization: QNX Software Systems, Ltd.\n",
            "Lines: 22\n",
            "\n",
            "In article <1993Apr20.203344.8417@cs.cornell.edu> karr@cs.cornell.edu (David Karr) writes:\n",
            ">In article <Clarke.6.735328328@bdrc.bd.com> Clarke@bdrc.bd.com (Richard Clarke) writes:\n",
            ">>So how do I steer when my hands aren't on the bars? (Open Budweiser in left \n",
            ">>hand, Camel cigarette in the right, no feet allowed.) \n",
            ">\n",
            ">>If I lean, and the \n",
            ">>bike turns, am I countersteering?\n",
            ">\n",
            ">No, the bars would turn only *toward* the direction of turn in\n",
            ">no-hands steering.\n",
            "\n",
            "Just in case the original poster was looking for a serious answer,\n",
            "I'll supply one.\n",
            "\n",
            "Yes, even when steering no hands you do something quite similar\n",
            "to countersteering.  Basically to turn left, you to a quick wiggle\n",
            "of the bike to the right first, causing a counteracting lean to\n",
            "occur to the left.  It is a lot more difficult to do on a motorcycle\n",
            "than a bicycle though, because of the extra weight.  (Ok, so my\n",
            "motorcycle is heavy.  Maybe yous isn't.)\n",
            "\n",
            "-David\n",
            "\n"
          ]
        }
      ]
    },
    {
      "cell_type": "markdown",
      "metadata": {
        "id": "WYz_RGAd5lxg"
      },
      "source": [
        "## 훈련/테스트용 데이터 추출"
      ]
    },
    {
      "cell_type": "code",
      "metadata": {
        "colab": {
          "base_uri": "https://localhost:8080/"
        },
        "id": "eniGxw7241yG",
        "outputId": "6727076b-5108-41a4-f32c-0cef98f9d391"
      },
      "source": [
        "train_news = fetch_20newsgroups(subset='train', random_state=2021, remove=['headers','footers','quotes'])\n",
        "len(train_news.data)"
      ],
      "execution_count": 84,
      "outputs": [
        {
          "output_type": "execute_result",
          "data": {
            "text/plain": [
              "11314"
            ]
          },
          "metadata": {},
          "execution_count": 84
        }
      ]
    },
    {
      "cell_type": "code",
      "metadata": {
        "colab": {
          "base_uri": "https://localhost:8080/"
        },
        "id": "JliWMOKE6CvU",
        "outputId": "dceb70e5-1a1a-4106-8367-dfc2c32c41db"
      },
      "source": [
        "test_news = fetch_20newsgroups(subset='test', random_state=2021, remove=['headers','footers','quotes'])\n",
        "len(test_news.data)"
      ],
      "execution_count": 85,
      "outputs": [
        {
          "output_type": "execute_result",
          "data": {
            "text/plain": [
              "7532"
            ]
          },
          "metadata": {},
          "execution_count": 85
        }
      ]
    },
    {
      "cell_type": "code",
      "metadata": {
        "colab": {
          "base_uri": "https://localhost:8080/"
        },
        "id": "mlZigae66bw5",
        "outputId": "e1873f64-176c-4cad-ace7-bd4d26ed057e"
      },
      "source": [
        "print(train_news.data[0])"
      ],
      "execution_count": 86,
      "outputs": [
        {
          "output_type": "stream",
          "name": "stdout",
          "text": [
            "\n",
            "Stop! Hold it! You have a few problems here. Official history says that \n",
            "the first accusations of homosexuality in the SA came from OUTSIDE of the Nazi \n",
            "party, long BEFORE the Nazis ever came to power. So this objection is a red\n",
            "herring, even if established history is wrong on this point. Moreover, none of \n",
            "the histories I've read ever made mention of Hitler or anyone else ever using \n",
            "homosexuality as a pretext for purging Roehm. A point I saw reiterated was that\n",
            "Hitler and the party covered up these accusations. If you are going to accuse\n",
            "official history of being a fabrication, you should at least get your facts\n",
            "right. The pretext for purging Roehm was that he was planning to use the SA in\n",
            "a coup against Hitler. Nowhere is there mention of using allegations of\n",
            "homosexuality as a pretext for the purge, nor as a justification afterwards (it\n",
            "is possible that the histories I've read have not mentioned this, but I doubt\n",
            "it - would it be in Hitler's best interest to admit to the world that his\n",
            "former right hand man was a homosexual?). \n",
            "\n",
            "Anyway, as I said before, it is always possible that I have missed references \n",
            "to the Nazis making use of charges of homosexuality against the SA after the \n",
            "night of the long knives - but this does not prove that they were false. Even \n",
            "the Nazis could tell the truth when it was to their advantage. In any case, \n",
            "this does not deal with accusations of homosexuality in the SA during the \n",
            "1920's.\n",
            "\n",
            "\n",
            "Ah, yes. I forgot this was being posted to alt.conspiracy. I can smell the\n",
            "paranoia from here. Since the Nazis never officially charged Roehm with \n",
            "homosexuality (at least, not according to what I've read), I'd like to know \n",
            "what tainted \"evidence\" you are talking about. Since the accusations were made \n",
            "by persons outside of the Nazi party, long before it came to power, and those \n",
            "accusations were common knowledge to journalists and others in Germany in the \n",
            "1920's and 30's, just how would it be possible for the Nazis to go back in \n",
            "time and plant \"tainted\" evidence? How exactly does one doctor newspapers \n",
            "which were circulated around the world, without the discrepancies being \n",
            "obvious? What actual incidences of Nazi doctoring evidence on this matter\n",
            "do you know about? And what about the testimony of people who were involved in \n",
            "these matters, some of whom were not Nazis? And what is the point of making a \n",
            "false accusation of homosexuality if you do not publicize it? Since the point \n",
            "here seems to be to discredit established history, then the burden of proof \n",
            "falls on the revisionist. The revisionists had better do their homework \n",
            "before making accusations. Otherwise they simply look like conspiracy nuts.\n",
            "\n",
            "\n",
            "This is just about the *only* thing we agree on. \n",
            "\n",
            "I suspect that the notion that there might have been bad people - Roehm and \n",
            "his SA buddies - who were homosexuals must disturb some people. The feeling\n",
            "seems to be that if a nasty individual is accused of homosexuality, that this\n",
            "must be an attempt to bash homosexuals. This fear - often justified - is what\n",
            "lies behind this distrust of official history, or so it seems to me. But this\n",
            "is not a good justification for trashing accepted accounts of this subject. If \n",
            "you really think that historians are so incompetent, why don't you write them \n",
            "and ask where they got their sources on this subject, if you can't tell from \n",
            "their footnotes? I'm a graduate student in history. Writing to professors and\n",
            "tracking down sources is old hat. But my time is limited and this is not my\n",
            "specialty - and neither you nor anyone else have said anything that would\n",
            "cast one shred of doubt on existing evidence. I'm not going to waste my time\n",
            "trying to debunk someone's paranoia. Do the research yourself.\n",
            "\n",
            "\n",
            "Given that you already consider all evidence \"tainted\", what on earth would\n",
            "constitute concrete particulars? And since when have concrete particulars been\n",
            "considered \"shrewd guesses\"?\n",
            "\n",
            "I suggest that those who do not trust popular historians (Irving et al) -\n",
            "historians writing for a popular audience do not, as a rule, provide copious \n",
            "footnotes - should try instead reading academic historians, who usually \n",
            "provide footnotes to all their sources in immmense detail. This is the place \n",
            "to start looking. Assuming that one really wants to know the truth.\n",
            "\n",
            "I'll bet the folks on alt.pagan are tired of this subject already. My\n",
            "apologies - we seem to have gone off on a bit of a tangent. I forget which gods\n",
            "are responsible for keeping strings within appropriate newsgroup subject\n",
            "boundaries...\n"
          ]
        }
      ]
    },
    {
      "cell_type": "markdown",
      "metadata": {
        "id": "TetxW-OV6oo1"
      },
      "source": [
        "## 텍스트 데이터 전처리"
      ]
    },
    {
      "cell_type": "code",
      "metadata": {
        "id": "NOfx7Ye16ijc"
      },
      "source": [
        "train_df = pd.DataFrame({'article' : train_news.data})\n",
        "test_df = pd.DataFrame({'article' : test_news.data})"
      ],
      "execution_count": 102,
      "outputs": []
    },
    {
      "cell_type": "code",
      "metadata": {
        "colab": {
          "base_uri": "https://localhost:8080/"
        },
        "id": "Id6cvpYD7HhE",
        "outputId": "d59ca939-285f-4a82-896f-fc27d55788ea"
      },
      "source": [
        "train_df.info()"
      ],
      "execution_count": 103,
      "outputs": [
        {
          "output_type": "stream",
          "name": "stdout",
          "text": [
            "<class 'pandas.core.frame.DataFrame'>\n",
            "RangeIndex: 11314 entries, 0 to 11313\n",
            "Data columns (total 1 columns):\n",
            " #   Column   Non-Null Count  Dtype \n",
            "---  ------   --------------  ----- \n",
            " 0   article  11314 non-null  object\n",
            "dtypes: object(1)\n",
            "memory usage: 88.5+ KB\n"
          ]
        }
      ]
    },
    {
      "cell_type": "code",
      "metadata": {
        "id": "6F84KIau7fpV"
      },
      "source": [
        "train_df['article'] = train_df['article'].astype(str).apply(lambda x : re.sub('r[^A-Za-z0-9 ]', '', x))\n",
        "test_df['article'] = test_df['article'].astype(str).apply(lambda x : re.sub('r[^A-Za-z0-9 ]', '', x))"
      ],
      "execution_count": 104,
      "outputs": []
    },
    {
      "cell_type": "code",
      "metadata": {
        "colab": {
          "base_uri": "https://localhost:8080/",
          "height": 128
        },
        "id": "2_ZsZLtM8cCu",
        "outputId": "e7b505f8-4e4a-42f1-ca38-7655a42f6314"
      },
      "source": [
        "train_df.article[0]"
      ],
      "execution_count": 105,
      "outputs": [
        {
          "output_type": "execute_result",
          "data": {
            "application/vnd.google.colaboratory.intrinsic+json": {
              "type": "string"
            },
            "text/plain": [
              "'\\nStop! Hold it! You have a few problems here. Official history says that \\nthe first accusations of homosexuality in the SA came from OUTSIDE of the Nazi \\nparty, long BEFORE the Nazis ever came to powe So this objection is a red\\nherring, even if established history is wrong on this point. Moreove none of \\nthe histories I\\'ve read ever made mention of Hitler or anyone else ever using \\nhomosexuality as a pretext for purging Roehm. A point I saw reiterated was that\\nHitler and the party covered up these accusations. If you are going to accuse\\nofficial history of being a fabrication, you should at least get your facts\\nright. The pretext for purging Roehm was that he was planning to use the SA in\\na coup against Hitle Nowhere is there mention of using allegations of\\nhomosexuality as a pretext for the purge, nor as a justification afterwards (it\\nis possible that the histories I\\'ve read have not mentioned this, but I doubt\\nit - would it be in Hitles best interest to admit to the world that his\\nformer right hand man was a homosexual?). \\n\\nAnyway, as I said before, it is always possible that I have missed references \\nto the Nazis making use of charges of homosexuality against the SA after the \\nnight of the long knives - but this does not prove that they were false. Even \\nthe Nazis could tell the truth when it was to their advantage. In any case, \\nthis does not deal with accusations of homosexuality in the SA during the \\n1920\\'s.\\n\\n\\nAh, yes. I forgot this was being posted to alt.conspiracy. I can smell the\\nparanoia from here. Since the Nazis never officially charged Roehm with \\nhomosexuality (at least, not according to what I\\'ve read), I\\'d like to know \\nwhat tainted \"evidence\" you are talking about. Since the accusations were made \\nby persons outside of the Nazi party, long before it came to powe and those \\naccusations were common knowledge to journalists and others in Germany in the \\n1920\\'s and 30\\'s, just how would it be possible for the Nazis to go back in \\ntime and plant \"tainted\" evidence? How exactly does one doctor newspapers \\nwhich were circulated around the world, without the discrepancies being \\nobvious? What actual incidences of Nazi doctoring evidence on this mattedo you know about? And what about the testimony of people who were involved in \\nthese matters, some of whom were not Nazis? And what is the point of making a \\nfalse accusation of homosexuality if you do not publicize it? Since the point \\nhere seems to be to discredit established history, then the burden of proof \\nfalls on the revisionist. The revisionists had better do their homework \\nbefore making accusations. Otherwise they simply look like conspiracy nuts.\\n\\n\\nThis is just about the *only* thing we agree on. \\n\\nI suspect that the notion that there might have been bad people - Roehm and \\nhis SA buddies - who were homosexuals must disturb some people. The feeling\\nseems to be that if a nasty individual is accused of homosexuality, that this\\nmust be an attempt to bash homosexuals. This fear - often justified - is what\\nlies behind this distrust of official history, or so it seems to me. But this\\nis not a good justification for trashing accepted accounts of this subject. If \\nyou really think that historians are so incompetent, why don\\'t you write them \\nand ask where they got their sources on this subject, if you can\\'t tell from \\ntheir footnotes? I\\'m a graduate student in history. Writing to professors and\\ntracking down sources is old hat. But my time is limited and this is not my\\nspecialty - and neither you nor anyone else have said anything that would\\ncast one shred of doubt on existing evidence. I\\'m not going to waste my time\\ntrying to debunk someone\\'s paranoia. Do the research yourself.\\n\\n\\nGiven that you already consider all evidence \"tainted\", what on earth would\\nconstitute concrete particulars? And since when have concrete particulars been\\nconsidered \"shrewd guesses\"?\\n\\nI suggest that those who do not trust popular historians (Irving et al) -\\nhistorians writing for a popular audience do not, as a rule, provide copious \\nfootnotes - should try instead reading academic historians, who usually \\nprovide footnotes to all their sources in immmense detail. This is the place \\nto start looking. Assuming that one really wants to know the truth.\\n\\nI\\'ll bet the folks on alt.pagan are tired of this subject already. My\\napologies - we seem to have gone off on a bit of a tangent. I forget which gods\\nare responsible for keeping strings within appropriate newsgroup subject\\nboundaries...'"
            ]
          },
          "metadata": {},
          "execution_count": 105
        }
      ]
    },
    {
      "cell_type": "code",
      "metadata": {
        "id": "WcgjIgFeCD-S"
      },
      "source": [
        "# train_df['article'] = train_df.article.apply(lambda x : ' '.join([w for w in x.split() if len(w) > 3]))"
      ],
      "execution_count": 98,
      "outputs": []
    },
    {
      "cell_type": "code",
      "metadata": {
        "id": "cy27uyufCwky"
      },
      "source": [
        "# train_df['article'] = train_df.article.apply(lambda x : x.lower())"
      ],
      "execution_count": 100,
      "outputs": []
    },
    {
      "cell_type": "markdown",
      "metadata": {
        "id": "h2CwPPWMELzM"
      },
      "source": [
        "## 텍스트 변환"
      ]
    },
    {
      "cell_type": "code",
      "metadata": {
        "id": "DqpJ3c8GDIvK"
      },
      "source": [
        "tvect = TfidfVectorizer(stop_words='english')\n",
        "tvect.fit(train_df.article)\n",
        "X_train = tvect.transform(train_df.article)\n",
        "X_test = tvect.transform(test_df.article)"
      ],
      "execution_count": 107,
      "outputs": []
    },
    {
      "cell_type": "code",
      "metadata": {
        "id": "KLHMkk_vFWN6"
      },
      "source": [
        "y_train = train_news.target\n",
        "y_test = test_news.target"
      ],
      "execution_count": 108,
      "outputs": []
    },
    {
      "cell_type": "code",
      "metadata": {
        "colab": {
          "base_uri": "https://localhost:8080/"
        },
        "id": "rHLJkjcLFdkV",
        "outputId": "24c3e974-3dd3-40ab-b543-83d781c60f1e"
      },
      "source": [
        "svc = SVC()\n",
        "svc.fit(X_train, y_train)\n"
      ],
      "execution_count": 111,
      "outputs": [
        {
          "output_type": "execute_result",
          "data": {
            "text/plain": [
              "SVC(C=1.0, break_ties=False, cache_size=200, class_weight=None, coef0=0.0,\n",
              "    decision_function_shape='ovr', degree=3, gamma='scale', kernel='rbf',\n",
              "    max_iter=-1, probability=False, random_state=None, shrinking=True,\n",
              "    tol=0.001, verbose=False)"
            ]
          },
          "metadata": {},
          "execution_count": 111
        }
      ]
    },
    {
      "cell_type": "code",
      "metadata": {
        "id": "aP_3erlPF9Yi"
      },
      "source": [
        "pred = svc.predict(X_test)\n",
        "score = accuracy_score(y_test, pred)"
      ],
      "execution_count": 113,
      "outputs": []
    },
    {
      "cell_type": "code",
      "metadata": {
        "colab": {
          "base_uri": "https://localhost:8080/"
        },
        "id": "4-xQ5qHkGqoX",
        "outputId": "e41481e6-7973-4878-863b-ba477d2b3dd9"
      },
      "source": [
        "score"
      ],
      "execution_count": 114,
      "outputs": [
        {
          "output_type": "execute_result",
          "data": {
            "text/plain": [
              "0.6759160913436006"
            ]
          },
          "metadata": {},
          "execution_count": 114
        }
      ]
    },
    {
      "cell_type": "code",
      "metadata": {
        "id": "0g3hLcOtG6dS"
      },
      "source": [
        ""
      ],
      "execution_count": null,
      "outputs": []
    }
  ]
}